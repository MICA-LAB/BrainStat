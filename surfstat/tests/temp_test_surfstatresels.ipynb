{
 "cells": [
  {
   "cell_type": "code",
   "execution_count": 118,
   "metadata": {},
   "outputs": [],
   "source": [
    "import matlab.engine\n",
    "import numpy as np \n",
    "\n",
    "\n",
    "# ==> SurfStatResels.m <==\n",
    "surfstat_eng = matlab.engine.start_matlab()\n",
    "surfstat_eng.addpath('/Users/reinder/Github/BrainStat/surfstat/matlab')\n",
    "def matlab_SurfStatResels(slm, mask=None): \n",
    "    # slm.resl = numpy array of shape (e,k)\n",
    "    # slm.tri  = numpy array of shape (t,3)\n",
    "    # or\n",
    "    # slm.lat  = 3D logical array\n",
    "    # mask     = numpy 'bool' array of shape (1,v)\n",
    "    \n",
    "    slm_mat = slm.copy()\n",
    "    for key in slm_mat.keys():\n",
    "        if np.ndim(slm_mat[key]) == 0:\n",
    "            slm_mat[key] = surfstat_eng.double(slm_mat[key].item())\n",
    "        else:\n",
    "            slm_mat[key] = matlab.double(slm_mat[key].tolist())\n",
    "\n",
    "\n",
    "    if mask is None:\n",
    "        resels, reselspvert, edg, lkc = surfstat_eng.SurfStatResels(slm_mat, \n",
    "                                                               nargout=4)\n",
    "    else:\n",
    "        mask_mat = matlab.double(np.array(mask, dtype=int).tolist())\n",
    "        mask_mat = matlab.logical(mask_mat)\n",
    "\n",
    "        resels, reselspvert, edg, lkc = surfstat_eng.SurfStatResels(slm_mat, mask_mat, nargout=4)\n",
    "\n",
    "    return np.array(resels), np.array(reselspvert), np.array(edg), np.array(lkc)"
   ]
  },
  {
   "cell_type": "code",
   "execution_count": 159,
   "metadata": {
    "tags": []
   },
   "outputs": [
    {
     "output_type": "stream",
     "name": "stdout",
     "text": "matlab\npython\n[ 0 14 30 46 61 61]\n(235, 2)\n[ True  True  True  True  True  True  True  True  True  True  True  True\n  True  True  True  True  True  True  True  True  True  True  True  True\n  True  True  True  True  True  True  True  True  True  True  True  True\n  True  True  True  True  True  True  True  True  True  True  True  True\n  True  True  True  True  True  True  True  True  True  True  True  True\n  True  True  True  True  True  True  True  True  True  True  True  True\n  True  True  True  True  True  True  True  True  True  True  True  True\n  True  True  True  True  True  True  True  True  True  True  True  True\n  True  True  True  True  True  True  True  True  True  True  True  True\n  True  True  True  True  True  True  True  True  True  True  True  True\n  True  True  True  True  True  True  True  True  True  True  True  True\n  True  True  True  True  True  True  True  True  True  True  True  True\n  True  True  True  True  True  True  True  True  True  True  True  True\n  True  True  True  True  True  True  True  True  True  True  True  True\n  True  True  True  True  True  True  True  True  True  True  True  True\n  True  True  True  True  True  True  True  True  True  True  True  True\n  True  True  True  True  True  True  True  True  True  True  True  True\n  True  True  True  True  True  True  True  True  True  True  True  True\n  True  True  True  True  True  True  True  True  True  True  True  True\n  True  True  True  True  True  True  True]\n--------------\n[ True  True  True  True  True  True  True  True  True  True  True  True\n  True  True  True  True  True  True  True  True  True  True  True  True\n  True  True  True  True  True  True  True  True  True  True  True  True\n  True  True  True  True  True  True  True  True  True  True  True  True\n  True  True  True  True  True  True  True  True  True  True  True  True\n  True  True  True  True False False False False False False False False\n False False False False False False False False False False False False\n False False False False False False False False False False False False\n False False False False False False False False False False False False\n False False False False False False False False False False False False\n False False False False False False False False False False False False\n False False False False False False False False False False False False\n False False False False False False False False False False False False\n False False False False False False False False False False False False\n False False False False False False False False False False False False\n False False False False False False False False False False False False\n False False False False False False False False False False False False\n False False False False False False False False False False False False\n False False False False False False False False False False False False\n False False False False False False False]\n(64, 2)\n(73, 2)\n[ 0 14 30 46 61 61]\n(235, 2)\n[False False False False False False False False False False False False\n False False False False False False False False False False False False\n False False False False False False False False False False False False\n False False False False False False False False False False False False\n False False False False False False False False False False False False\n False False False False False False False False False False False False\n False False False False False False False False False False False False\n False False False False False False False False False False False False\n False False False False False False False False False False False False\n False False False False False False False False False False False False\n False False False False False False False False False False False False\n False False False False False  True  True  True  True  True  True  True\n  True  True  True  True  True  True  True  True  True  True  True  True\n  True  True  True  True  True  True  True  True  True  True  True  True\n  True  True  True  True  True  True  True  True  True  True  True  True\n  True  True  True  True  True  True  True  True  True  True  True  True\n  True  True  True  True  True  True  True  True  True  True  True  True\n  True  True  True  True  True  True  True  True  True  True  True  True\n  True  True  True  True  True  True  True  True  True  True  True  True\n  True  True  True  True  True  True  True]\n--------------\n[ True  True  True  True  True  True  True  True  True  True  True  True\n  True  True  True  True  True  True  True  True  True  True  True  True\n  True  True  True  True  True  True  True  True  True  True  True  True\n  True  True  True  True  True  True  True  True  True  True  True  True\n  True  True  True  True  True  True  True  True  True  True  True  True\n  True  True  True  True  True  True  True  True  True  True  True  True\n  True  True  True  True  True  True  True  True  True  True  True  True\n  True  True  True  True  True  True  True  True  True  True  True  True\n  True  True  True  True  True  True  True  True  True  True  True  True\n  True  True  True  True  True  True  True  True  True  True  True  True\n  True  True  True  True  True  True  True  True  True  True  True  True\n  True  True  True  True  True False False False False False False False\n False False False False False False False False False False False False\n False False False False False False False False False False False False\n False False False False False False False False False False False False\n False False False False False False False False False False False False\n False False False False False False False False False False False False\n False False False False False False False False False False False False\n False False False False False False False False False False False False\n False False False False False False False]\n(0, 2)\n(98, 2)\n"
    }
   ],
   "source": [
    "import sys\n",
    "sys.path.append('/Users/reinder/Github/BrainStat/surfstat/python')\n",
    "from importlib import reload  \n",
    "import SurfStatResels\n",
    "\n",
    "SurfStatResels = reload(SurfStatResels)\n",
    "\n",
    "# Set variables\n",
    "M = np.ones((4,4,4))\n",
    "M[0,0,0] = 0\n",
    "M[1,0,0] = 0\n",
    "M[1,2,3] = 0\n",
    "slm = {'lat': M}\n",
    "#np.random.seed(10)\n",
    "#slm = {'lat': np.random.rand(4,4,4) > 0.5}\n",
    "mask = np.ones(1000,dtype=bool)\n",
    "\n",
    "print('matlab')\n",
    "resels_mat, reselspvert_mat, edg_mat, lkc_mat = matlab_SurfStatResels(slm)\n",
    "print('python')\n",
    "resels_py,  reselspvert_py,  edg_py, lkc_py = SurfStatResels.py_SurfStatResels(slm)\n"
   ]
  },
  {
   "cell_type": "code",
   "execution_count": 151,
   "metadata": {
    "tags": []
   },
   "outputs": [
    {
     "output_type": "stream",
     "name": "stdout",
     "text": "[[ 61. 230. 284. 114.]\n [  0.   0.   0.   0.]\n [  0.   0.   0.   0.]\n [  0.   0.   0.   0.]] [[ 61. 235. 284. 114.]\n [  0.   0.   0.   0.]\n [  0.   0.   0.   0.]\n [  0.   0.   0.   0.]]\n1.0 [[-4.]]\n[[0. 0. 0. 0. 0. 0. 0. 0. 0. 0. 0. 0. 0. 0. 0. 0. 0. 0. 0. 0. 0. 0. 0. 0.\n  0. 0. 0. 0. 0. 0. 0. 0. 0. 0. 0. 0. 0. 0. 0. 0. 0. 0. 0. 0. 0. 0. 0. 0.\n  0. 0. 0. 0. 0. 0. 0. 0. 0. 0. 0. 0. 0.]] [0. 0. 0. 0. 0. 0. 0. 0. 0. 0. 0. 0. 0. 0. 0. 0. 0. 0. 0. 0. 0. 0. 0. 0.\n 0. 0. 0. 0. 0. 0. 0. 0. 0. 0. 0. 0. 0. 0. 0. 0. 0. 0. 0. 0. 0. 0. 0. 0.\n 0. 0. 0. 0. 0. 0. 0. 0. 0. 0. 0. 0. 0.]\n[[ 0  1]\n [ 3  4]\n [ 6  7]\n [ 8  9]\n [ 0  4]\n [ 3  7]\n [ 6 10]\n [ 8 12]\n [ 0  5]\n [ 3  8]\n [ 6 11]\n [ 8 13]\n [ 2  3]\n [ 4  5]\n [ 7  8]\n [ 2  6]\n [ 4  8]\n [ 7 11]\n [ 0  3]\n [ 3  6]\n [ 5  8]\n [ 8 11]\n [ 5  9]\n [ 1  5]\n [ 9 13]\n [11 12]\n [10 11]\n [12 13]\n [ 0 16]\n [ 3 19]\n [ 6 22]\n [ 8 24]\n [ 0 17]\n [ 3 20]\n [ 6 23]\n [ 8 25]\n [ 0 20]\n [ 3 23]\n [ 6 26]\n [ 8 28]\n [ 5 21]\n [ 5 25]\n [11 27]\n [11 28]\n [ 2 18]\n [ 4 20]\n [ 7 23]\n [ 0 15]\n [ 3 18]\n [ 5 20]\n [ 8 23]\n [ 3 15]\n [ 6 18]\n [ 8 20]\n [11 23]\n [ 1 17]\n [ 9 25]\n [ 5 17]\n [13 25]\n [10 26]\n [12 28]\n [11 26]\n [13 28]\n [13 29]\n [15 16]\n [18 19]\n [20 21]\n [23 24]\n [15 19]\n [18 22]\n [20 24]\n [23 27]\n [15 20]\n [18 23]\n [20 25]\n [23 28]\n [14 15]\n [16 17]\n [19 20]\n [22 23]\n [24 25]\n [14 18]\n [16 20]\n [19 23]\n [22 26]\n [24 28]\n [15 18]\n [17 20]\n [20 23]\n [23 26]\n [25 28]\n [17 21]\n [25 29]\n [21 25]\n [26 27]\n [28 29]\n [27 28]\n [14 30]\n [16 32]\n [19 35]\n [22 38]\n [24 40]\n [15 30]\n [17 32]\n [20 35]\n [23 38]\n [25 40]\n [18 30]\n [20 32]\n [23 35]\n [26 38]\n [28 40]\n [21 37]\n [25 37]\n [27 43]\n [28 43]\n [15 31]\n [18 34]\n [20 36]\n [23 39]\n [15 32]\n [18 35]\n [20 37]\n [23 40]\n [15 35]\n [18 38]\n [20 40]\n [23 43]\n [17 33]\n [25 41]\n [17 37]\n [25 45]\n [26 42]\n [28 44]\n [26 43]\n [28 45]\n [29 45]\n [30 31]\n [32 33]\n [35 36]\n [38 39]\n [40 41]\n [30 34]\n [32 36]\n [35 39]\n [38 42]\n [40 44]\n [30 35]\n [32 37]\n [35 40]\n [38 43]\n [40 45]\n [31 32]\n [34 35]\n [36 37]\n [39 40]\n [31 35]\n [34 38]\n [36 40]\n [39 43]\n [32 35]\n [35 38]\n [37 40]\n [40 43]\n [37 41]\n [33 37]\n [41 45]\n [43 44]\n [42 43]\n [44 45]\n [30 46]\n [32 48]\n [35 51]\n [38 54]\n [40 55]\n [30 47]\n [32 49]\n [35 52]\n [40 56]\n [30 50]\n [32 52]\n [38 57]\n [40 59]\n [37 53]\n [37 56]\n [43 58]\n [43 59]\n [31 47]\n [34 50]\n [36 52]\n [32 47]\n [35 50]\n [37 52]\n [35 47]\n [38 50]\n [40 52]\n [33 49]\n [41 56]\n [37 49]\n [45 56]\n [42 57]\n [44 59]\n [43 57]\n [45 59]\n [45 60]\n [47 48]\n [50 51]\n [52 53]\n [47 51]\n [50 54]\n [52 55]\n [47 52]\n [52 56]\n [46 47]\n [48 49]\n [51 52]\n [55 56]\n [46 50]\n [48 52]\n [54 57]\n [55 59]\n [47 50]\n [49 52]\n [56 59]\n [49 53]\n [56 60]\n [53 56]\n [57 58]\n [59 60]\n [58 59]] [[ 0  1]\n [ 3  4]\n [ 6  7]\n [ 8  9]\n [ 0  4]\n [ 3  7]\n [ 6 10]\n [ 8 12]\n [ 0  5]\n [ 3  8]\n [ 6 11]\n [ 8 13]\n [ 2  3]\n [ 4  5]\n [ 7  8]\n [ 2  6]\n [ 4  8]\n [ 7 11]\n [ 0  3]\n [ 3  6]\n [ 5  8]\n [ 8 11]\n [ 5  9]\n [ 1  5]\n [ 9 13]\n [11 12]\n [10 11]\n [12 13]\n [ 0 16]\n [ 3 19]\n [ 6 22]\n [ 8 24]\n [ 0 17]\n [ 3 20]\n [ 6 23]\n [ 8 25]\n [ 0 20]\n [ 3 23]\n [ 6 26]\n [ 8 28]\n [ 5 21]\n [ 5 25]\n [11 27]\n [11 28]\n [ 2 18]\n [ 4 20]\n [ 7 23]\n [ 0 15]\n [ 3 18]\n [ 5 20]\n [ 8 23]\n [ 3 15]\n [ 6 18]\n [ 8 20]\n [11 23]\n [ 1 17]\n [ 9 25]\n [ 5 17]\n [13 25]\n [10 26]\n [12 28]\n [11 26]\n [13 28]\n [13 29]\n [15 16]\n [18 19]\n [20 21]\n [23 24]\n [15 19]\n [18 22]\n [20 24]\n [23 27]\n [15 20]\n [18 23]\n [20 25]\n [23 28]\n [14 15]\n [16 17]\n [19 20]\n [22 23]\n [24 25]\n [14 18]\n [16 20]\n [19 23]\n [22 26]\n [24 28]\n [15 18]\n [17 20]\n [20 23]\n [23 26]\n [25 28]\n [17 21]\n [25 29]\n [21 25]\n [26 27]\n [28 29]\n [27 28]\n [14 30]\n [16 32]\n [19 35]\n [22 38]\n [24 40]\n [15 30]\n [17 32]\n [20 35]\n [23 38]\n [25 40]\n [18 30]\n [20 32]\n [23 35]\n [26 38]\n [28 40]\n [21 37]\n [25 37]\n [27 43]\n [28 43]\n [15 31]\n [18 34]\n [20 36]\n [23 39]\n [15 32]\n [18 35]\n [20 37]\n [23 40]\n [15 35]\n [18 38]\n [20 40]\n [23 43]\n [17 33]\n [25 41]\n [17 37]\n [25 45]\n [26 42]\n [28 44]\n [26 43]\n [28 45]\n [29 45]\n [60 60]\n [60 60]\n [60 60]\n [60 60]\n [60 60]\n [60 60]\n [60 60]\n [60 60]\n [60 60]\n [60 60]\n [60 60]\n [60 60]\n [60 60]\n [60 60]\n [60 60]\n [60 60]\n [60 60]\n [60 60]\n [60 60]\n [60 60]\n [60 60]\n [60 60]\n [60 60]\n [60 60]\n [60 60]\n [60 60]\n [60 60]\n [60 60]\n [60 60]\n [60 60]\n [60 60]\n [60 60]\n [60 60]\n [60 60]\n [60 60]\n [60 60]\n [60 60]\n [60 60]\n [60 60]\n [60 60]\n [60 60]\n [60 60]\n [60 60]\n [60 60]\n [60 60]\n [60 60]\n [60 60]\n [60 60]\n [60 60]\n [60 60]\n [60 60]\n [60 60]\n [60 60]\n [60 60]\n [60 60]\n [60 60]\n [60 60]\n [60 60]\n [60 60]\n [60 60]\n [60 60]\n [60 60]\n [60 60]\n [60 60]\n [60 60]\n [60 60]\n [60 60]\n [60 60]\n [60 60]\n [60 60]\n [60 60]\n [60 60]\n [60 60]\n [47 48]\n [50 51]\n [52 53]\n [47 51]\n [50 54]\n [52 55]\n [47 52]\n [52 56]\n [46 47]\n [48 49]\n [51 52]\n [55 56]\n [46 50]\n [48 52]\n [54 57]\n [55 59]\n [47 50]\n [49 52]\n [56 59]\n [49 53]\n [56 60]\n [53 56]\n [57 58]\n [59 60]\n [58 59]]\n"
    }
   ],
   "source": [
    "print(lkc_mat,lkc_py)\n",
    "print(resels_mat,resels_py)\n",
    "print(reselspvert_mat,reselspvert_py)\n",
    "print(edg_mat-1,edg_py)"
   ]
  },
  {
   "cell_type": "code",
   "execution_count": 140,
   "metadata": {
    "tags": []
   },
   "outputs": [
    {
     "output_type": "stream",
     "name": "stdout",
     "text": "[[[0. 1. 1. 1.]\n  [1. 1. 1. 1.]\n  [1. 1. 1. 1.]\n  [1. 1. 1. 1.]]\n\n [[1. 1. 1. 1.]\n  [1. 1. 1. 1.]\n  [1. 1. 1. 1.]\n  [1. 1. 1. 1.]]\n\n [[1. 1. 1. 1.]\n  [1. 1. 1. 1.]\n  [1. 1. 1. 1.]\n  [1. 1. 1. 1.]]\n\n [[1. 1. 1. 1.]\n  [1. 1. 1. 1.]\n  [1. 1. 1. 1.]\n  [1. 1. 1. 1.]]]\n"
    }
   ],
   "source": [
    "print(M)"
   ]
  },
  {
   "cell_type": "code",
   "execution_count": 167,
   "metadata": {},
   "outputs": [
    {
     "output_type": "error",
     "ename": "MatlabExecutionError",
     "evalue": "Undefined function 'matlab_SurfStatEdg' for input arguments of type 'struct'.\n",
     "traceback": [
      "\u001b[0;31m---------------------------------------------------------------------------\u001b[0m",
      "\u001b[0;31mMatlabExecutionError\u001b[0m                      Traceback (most recent call last)",
      "\u001b[0;32m<ipython-input-167-47c2bf59dcf2>\u001b[0m in \u001b[0;36m<module>\u001b[0;34m\u001b[0m\n\u001b[1;32m     20\u001b[0m     \u001b[0;32melse\u001b[0m\u001b[0;34m:\u001b[0m\u001b[0;34m\u001b[0m\u001b[0;34m\u001b[0m\u001b[0m\n\u001b[1;32m     21\u001b[0m         \u001b[0mslm_mat\u001b[0m\u001b[0;34m[\u001b[0m\u001b[0mkey\u001b[0m\u001b[0;34m]\u001b[0m \u001b[0;34m=\u001b[0m \u001b[0mmatlab\u001b[0m\u001b[0;34m.\u001b[0m\u001b[0mdouble\u001b[0m\u001b[0;34m(\u001b[0m\u001b[0mslm_mat\u001b[0m\u001b[0;34m[\u001b[0m\u001b[0mkey\u001b[0m\u001b[0;34m]\u001b[0m\u001b[0;34m.\u001b[0m\u001b[0mtolist\u001b[0m\u001b[0;34m(\u001b[0m\u001b[0;34m)\u001b[0m\u001b[0;34m)\u001b[0m\u001b[0;34m\u001b[0m\u001b[0;34m\u001b[0m\u001b[0m\n\u001b[0;32m---> 22\u001b[0;31m \u001b[0mmat_edg\u001b[0m \u001b[0;34m=\u001b[0m \u001b[0msurfstat_eng\u001b[0m\u001b[0;34m.\u001b[0m\u001b[0mmatlab_SurfStatEdg\u001b[0m\u001b[0;34m(\u001b[0m\u001b[0mslm_mat\u001b[0m\u001b[0;34m)\u001b[0m\u001b[0;34m\u001b[0m\u001b[0;34m\u001b[0m\u001b[0m\n\u001b[0m",
      "\u001b[0;32m/Applications/miniconda2/envs/brainweb/lib/python3.7/site-packages/matlab/engine/matlabengine.py\u001b[0m in \u001b[0;36m__call__\u001b[0;34m(self, *args, **kwargs)\u001b[0m\n\u001b[1;32m     69\u001b[0m         \u001b[0;32melse\u001b[0m\u001b[0;34m:\u001b[0m\u001b[0;34m\u001b[0m\u001b[0;34m\u001b[0m\u001b[0m\n\u001b[1;32m     70\u001b[0m             return FutureResult(self._engine(), future, nargs, _stdout,\n\u001b[0;32m---> 71\u001b[0;31m                                 _stderr, feval=True).result()\n\u001b[0m\u001b[1;32m     72\u001b[0m \u001b[0;34m\u001b[0m\u001b[0m\n\u001b[1;32m     73\u001b[0m     \u001b[0;32mdef\u001b[0m \u001b[0m__validate_engine\u001b[0m\u001b[0;34m(\u001b[0m\u001b[0mself\u001b[0m\u001b[0;34m)\u001b[0m\u001b[0;34m:\u001b[0m\u001b[0;34m\u001b[0m\u001b[0;34m\u001b[0m\u001b[0m\n",
      "\u001b[0;32m/Applications/miniconda2/envs/brainweb/lib/python3.7/site-packages/matlab/engine/futureresult.py\u001b[0m in \u001b[0;36mresult\u001b[0;34m(self, timeout)\u001b[0m\n\u001b[1;32m     65\u001b[0m                 \u001b[0;32mraise\u001b[0m \u001b[0mTypeError\u001b[0m\u001b[0;34m(\u001b[0m\u001b[0mpythonengine\u001b[0m\u001b[0;34m.\u001b[0m\u001b[0mgetMessage\u001b[0m\u001b[0;34m(\u001b[0m\u001b[0;34m'TimeoutCannotBeNegative'\u001b[0m\u001b[0;34m)\u001b[0m\u001b[0;34m)\u001b[0m\u001b[0;34m\u001b[0m\u001b[0;34m\u001b[0m\u001b[0m\n\u001b[1;32m     66\u001b[0m \u001b[0;34m\u001b[0m\u001b[0m\n\u001b[0;32m---> 67\u001b[0;31m         \u001b[0;32mreturn\u001b[0m \u001b[0mself\u001b[0m\u001b[0;34m.\u001b[0m\u001b[0m__future\u001b[0m\u001b[0;34m.\u001b[0m\u001b[0mresult\u001b[0m\u001b[0;34m(\u001b[0m\u001b[0mtimeout\u001b[0m\u001b[0;34m)\u001b[0m\u001b[0;34m\u001b[0m\u001b[0;34m\u001b[0m\u001b[0m\n\u001b[0m\u001b[1;32m     68\u001b[0m \u001b[0;34m\u001b[0m\u001b[0m\n\u001b[1;32m     69\u001b[0m     \u001b[0;32mdef\u001b[0m \u001b[0mcancel\u001b[0m\u001b[0;34m(\u001b[0m\u001b[0mself\u001b[0m\u001b[0;34m)\u001b[0m\u001b[0;34m:\u001b[0m\u001b[0;34m\u001b[0m\u001b[0;34m\u001b[0m\u001b[0m\n",
      "\u001b[0;32m/Applications/miniconda2/envs/brainweb/lib/python3.7/site-packages/matlab/engine/fevalfuture.py\u001b[0m in \u001b[0;36mresult\u001b[0;34m(self, timeout)\u001b[0m\n\u001b[1;32m     80\u001b[0m                 \u001b[0;32mraise\u001b[0m \u001b[0mTimeoutError\u001b[0m\u001b[0;34m(\u001b[0m\u001b[0mpythonengine\u001b[0m\u001b[0;34m.\u001b[0m\u001b[0mgetMessage\u001b[0m\u001b[0;34m(\u001b[0m\u001b[0;34m'MatlabFunctionTimeout'\u001b[0m\u001b[0;34m)\u001b[0m\u001b[0;34m)\u001b[0m\u001b[0;34m\u001b[0m\u001b[0;34m\u001b[0m\u001b[0m\n\u001b[1;32m     81\u001b[0m \u001b[0;34m\u001b[0m\u001b[0m\n\u001b[0;32m---> 82\u001b[0;31m             \u001b[0mself\u001b[0m\u001b[0;34m.\u001b[0m\u001b[0m_result\u001b[0m \u001b[0;34m=\u001b[0m \u001b[0mpythonengine\u001b[0m\u001b[0;34m.\u001b[0m\u001b[0mgetFEvalResult\u001b[0m\u001b[0;34m(\u001b[0m\u001b[0mself\u001b[0m\u001b[0;34m.\u001b[0m\u001b[0m_future\u001b[0m\u001b[0;34m,\u001b[0m\u001b[0mself\u001b[0m\u001b[0;34m.\u001b[0m\u001b[0m_nargout\u001b[0m\u001b[0;34m,\u001b[0m \u001b[0;32mNone\u001b[0m\u001b[0;34m,\u001b[0m \u001b[0mout\u001b[0m\u001b[0;34m=\u001b[0m\u001b[0mself\u001b[0m\u001b[0;34m.\u001b[0m\u001b[0m_out\u001b[0m\u001b[0;34m,\u001b[0m \u001b[0merr\u001b[0m\u001b[0;34m=\u001b[0m\u001b[0mself\u001b[0m\u001b[0;34m.\u001b[0m\u001b[0m_err\u001b[0m\u001b[0;34m)\u001b[0m\u001b[0;34m\u001b[0m\u001b[0;34m\u001b[0m\u001b[0m\n\u001b[0m\u001b[1;32m     83\u001b[0m             \u001b[0mself\u001b[0m\u001b[0;34m.\u001b[0m\u001b[0m_retrieved\u001b[0m \u001b[0;34m=\u001b[0m \u001b[0;32mTrue\u001b[0m\u001b[0;34m\u001b[0m\u001b[0;34m\u001b[0m\u001b[0m\n\u001b[1;32m     84\u001b[0m             \u001b[0;32mreturn\u001b[0m \u001b[0mself\u001b[0m\u001b[0;34m.\u001b[0m\u001b[0m_result\u001b[0m\u001b[0;34m\u001b[0m\u001b[0;34m\u001b[0m\u001b[0m\n",
      "\u001b[0;31mMatlabExecutionError\u001b[0m: Undefined function 'matlab_SurfStatEdg' for input arguments of type 'struct'.\n"
     ]
    }
   ],
   "source": [
    "import sys\n",
    "sys.path.append(\"/Users/reinder/Github/BrainStat/surfstat/python\")\n",
    "import SurfStatEdg\n",
    "import numpy as np\n",
    "\n",
    "surfstat_eng = matlab.engine.start_matlab()\n",
    "addpath = surfstat_eng.addpath('matlab')\n",
    "\n",
    "M = np.ones((4,4,4))\n",
    "M[0,0,0] = 0\n",
    "M[1,0,0] = 0\n",
    "M[1,2,3] = 0\n",
    "slm = {'lat': M}\n",
    "py_edg = SurfStatEdg.py_SurfStatEdg(slm)\n",
    "\n",
    "slm_mat = slm.copy()\n",
    "for key in slm_mat.keys():\n",
    "    if np.ndim(slm_mat[key]) == 0:\n",
    "        slm_mat[key] = surfstat_eng.double(slm_mat[key].item())\n",
    "    else:\n",
    "        slm_mat[key] = matlab.double(slm_mat[key].tolist())\n",
    "mat_edg = surfstat_eng.SurfStatEdg(slm_mat)"
   ]
  },
  {
   "cell_type": "code",
   "execution_count": null,
   "metadata": {},
   "outputs": [],
   "source": [
    "print(mat_edg)\n",
    "print(py_edg+1)"
   ]
  }
 ],
 "metadata": {
  "kernelspec": {
   "display_name": "Python 3.7.7 64-bit ('brainweb': conda)",
   "language": "python",
   "name": "python37764bitbrainwebcondaa8fdccdc2fa84049841ad96d772158ec"
  },
  "language_info": {
   "codemirror_mode": {
    "name": "ipython",
    "version": 3
   },
   "file_extension": ".py",
   "mimetype": "text/x-python",
   "name": "python",
   "nbconvert_exporter": "python",
   "pygments_lexer": "ipython3",
   "version": "3.7.7-final"
  }
 },
 "nbformat": 4,
 "nbformat_minor": 4
}