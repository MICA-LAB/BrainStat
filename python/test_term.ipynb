{
 "cells": [
  {
   "cell_type": "code",
   "execution_count": 1,
   "metadata": {},
   "outputs": [],
   "source": [
    "from modelterms.term import term\n",
    "import numpy as np\n",
    "\n",
    "v1 = np.random.rand(100,2)\n",
    "v2 = np.concatenate([v1,np.random.rand(100,2)],axis=1)\n",
    "\n",
    "t1 = term(v1,['x1','x2'])\n",
    "t2 = term(v2,['y1','y2','y3','y4'])\n",
    "\n",
    "t3 = t1 + t2\n",
    "t4 = t2 - t1\n",
    "t5 = t1 * t2"
   ]
  },
  {
   "cell_type": "code",
   "execution_count": 2,
   "metadata": {},
   "outputs": [
    {
     "data": {
      "text/plain": [
       "True"
      ]
     },
     "execution_count": 2,
     "metadata": {},
     "output_type": "execute_result"
    }
   ],
   "source": [
    "np.all(t3.matrix == np.concatenate([v1,v2[:,2:]],axis=1)) # Check correct addition"
   ]
  },
  {
   "cell_type": "code",
   "execution_count": 3,
   "metadata": {},
   "outputs": [
    {
     "data": {
      "text/plain": [
       "True"
      ]
     },
     "execution_count": 3,
     "metadata": {},
     "output_type": "execute_result"
    }
   ],
   "source": [
    "np.all(t4.matrix == v2[:,2:]) # Check correct substraction"
   ]
  },
  {
   "cell_type": "code",
   "execution_count": 6,
   "metadata": {},
   "outputs": [
    {
     "data": {
      "text/plain": [
       "True"
      ]
     },
     "execution_count": 6,
     "metadata": {},
     "output_type": "execute_result"
    }
   ],
   "source": [
    "np.all(t5.matrix[:,3] == v1[:,0] * v2[:,3])"
   ]
  },
  {
   "cell_type": "code",
   "execution_count": null,
   "metadata": {},
   "outputs": [],
   "source": []
  }
 ],
 "metadata": {
  "kernelspec": {
   "display_name": "Python 3.7.7 64-bit ('brainweb': conda)",
   "language": "python",
   "name": "python37764bitbrainwebcondaa8fdccdc2fa84049841ad96d772158ec"
  },
  "language_info": {
   "codemirror_mode": {
    "name": "ipython",
    "version": 3
   },
   "file_extension": ".py",
   "mimetype": "text/x-python",
   "name": "python",
   "nbconvert_exporter": "python",
   "pygments_lexer": "ipython3",
   "version": "3.7.7"
  }
 },
 "nbformat": 4,
 "nbformat_minor": 4
}
