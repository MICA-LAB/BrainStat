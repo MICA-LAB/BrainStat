{
 "cells": [
  {
   "cell_type": "code",
   "execution_count": null,
   "metadata": {},
   "outputs": [],
   "source": [
    "%matplotlib inline"
   ]
  },
  {
   "cell_type": "markdown",
   "metadata": {
    "cell_marker": "\"\"\""
   },
   "source": [
    "Tutorial 01: Linear Models\n",
    "=========================================\n",
    "\n",
    "In this tutorial you will set up your first linear model with SurfStat. Please\n",
    "note that brainstat does not include sample data yet. Once we introduce\n",
    "example data loader functions into BrainStat this tutorial will be modified\n",
    "accordingly. Until such time, we will rely on randomly generated data and sample\n",
    "data from BrainSpace.\n",
    "\n",
    "Setting up a linear model\n",
    "---------------------------------\n",
    "Lets start setting up a basic model. Recall that fixed linear models take the\n",
    "form of :math:`Y = \\\\beta_0 + \\\\beta_1x_1 + ... + \\\\beta_nx_n + \\\\varepsilon` where\n",
    ":math:`\\\\beta_0` denotes the intercept, :math:`\\\\beta_i` denotes the slope for\n",
    "variable :math:`x_i`, and :math:`\\\\varepsilon` is the error term. In BrainStat we\n",
    "can easily set up such a model as follows.\n",
    "\n",
    "First lets load some example data to play around with. We'll load age, IQ, and left\n",
    "hemispheric cortical thickness for a few subjects."
   ]
  },
  {
   "cell_type": "code",
   "execution_count": null,
   "metadata": {},
   "outputs": [],
   "source": [
    "import numpy as np\n",
    "import nibabel as nib\n",
    "import os\n",
    "import brainstat\n",
    "from brainstat.tutorial.utils import fetch_tutorial_data\n",
    "from brainstat.context.utils import read_surface_gz\n",
    "from nilearn.datasets import fetch_surf_fsaverage\n",
    "\n",
    "brainstat_dir = os.path.dirname(brainstat.__file__)\n",
    "data_dir = os.path.join(brainstat_dir, \"tutorial\")\n",
    "\n",
    "n = 20\n",
    "tutorial_data = fetch_tutorial_data(n_subjects=n, data_dir=data_dir)\n",
    "age = tutorial_data[\"demographics\"][\"AGE\"].to_numpy()\n",
    "iq = tutorial_data[\"demographics\"][\"IQ\"].to_numpy()\n",
    "\n",
    "# Reshape the thickness files such that left and right hemispheres are in the same row.\n",
    "files = np.reshape(np.array(tutorial_data[\"image_files\"]), (-1, 2))\n",
    "\n",
    "# We'll use only the left hemisphere in this tutorial.\n",
    "thickness = np.zeros((n, 10242))\n",
    "for i in range(n):\n",
    "    thickness[i, :] = np.squeeze(nib.load(files[i, 0]).get_fdata())\n",
    "\n",
    "pial_left = read_surface_gz(fetch_surf_fsaverage()[\"pial_left\"])\n"
   ]
  },
  {
   "cell_type": "markdown",
   "metadata": {
    "cell_marker": "###################################################################"
   },
   "source": [
    "Next, we can create a BrainStat linear model by declaring these variables as\n",
    "terms. The term class requires two things: 1) an array or scalar, and 2) a\n",
    "variable name for each column. Lastly, we can create the model by simply\n",
    "adding the terms together."
   ]
  },
  {
   "cell_type": "code",
   "execution_count": null,
   "metadata": {},
   "outputs": [],
   "source": [
    "from brainstat.stats.terms import Term\n",
    "\n",
    "term_intercept = Term(1, names=\"intercept\")\n",
    "term_age = Term(age, \"age\")\n",
    "term_iq = Term(iq, \"iq\")\n",
    "model = term_intercept + term_age + term_iq"
   ]
  },
  {
   "cell_type": "markdown",
   "metadata": {
    "cell_marker": "###################################################################"
   },
   "source": [
    "We can also add interaction effects to the model by multiplying terms."
   ]
  },
  {
   "cell_type": "code",
   "execution_count": null,
   "metadata": {},
   "outputs": [],
   "source": [
    "model_interaction = term_intercept + term_age + term_iq + term_age * term_iq"
   ]
  },
  {
   "cell_type": "markdown",
   "metadata": {
    "cell_marker": "###################################################################"
   },
   "source": [
    "Now, lets imagine we have some cortical marker (e.g. cortical thickness) for\n",
    "each subject and we want to evaluate whether this marker changes with age\n",
    "whilst correcting for effects of sex and age-sex interactions. Note that\n",
    "BrainStat's univariate tests are one-tailed, so the sign of the contrast\n",
    "matters!"
   ]
  },
  {
   "cell_type": "code",
   "execution_count": null,
   "metadata": {},
   "outputs": [],
   "source": [
    "from brainstat.stats.models import linear_model, t_test\n",
    "\n",
    "Y = np.random.rand(n, 10242)  # Surface has 10242 vertices.\n",
    "slm = linear_model(Y, model_interaction, pial_left)\n",
    "slm = t_test(slm, -age)\n",
    "print(slm[\"t\"])  # These are the t-values of the model."
   ]
  },
  {
   "cell_type": "markdown",
   "metadata": {
    "cell_marker": "###################################################################"
   },
   "source": [
    "Never forget: with great models come great multiple comparisons corrections.\n",
    "BrainStat provides two methods for these corrections: FDR and random field theory.\n",
    "In this example we'll show you how to use random field theory to find significant\n",
    "results at alpha=0.05."
   ]
  },
  {
   "cell_type": "code",
   "execution_count": null,
   "metadata": {},
   "outputs": [],
   "source": [
    "from brainstat.stats.multiple_comparisons import random_field_theory\n",
    "\n",
    "alpha = 0.05\n",
    "P, _, _, _ = random_field_theory(slm)\n",
    "print(P[\"P\"] < alpha)"
   ]
  },
  {
   "cell_type": "markdown",
   "metadata": {
    "cell_marker": "###################################################################"
   },
   "source": [
    "As said before, univariate tests in BrainStat use a one-tailed test. If you\n",
    "want to get a two-tailed text, simply run contrast as well as its negative and\n",
    "adjust the alpha accordingly."
   ]
  },
  {
   "cell_type": "code",
   "execution_count": null,
   "metadata": {},
   "outputs": [],
   "source": [
    "slm_basic = linear_model(Y, model_interaction, pial_left)\n",
    "\n",
    "slm1 = t_test(slm_basic, -age)\n",
    "slm2 = t_test(slm_basic, age)\n",
    "\n",
    "P1, _, _, _ = random_field_theory(slm1)\n",
    "P2, _, _, _ = random_field_theory(slm2)\n",
    "print(np.logical_or(P1[\"P\"] < alpha / 2, P2[\"P\"] < alpha / 2))"
   ]
  },
  {
   "cell_type": "markdown",
   "metadata": {
    "cell_marker": "###################################################################"
   },
   "source": [
    "Now, imagine that instead of using a fixed effects model, you would prefer a\n",
    "mixed effects model wherein handedness is a random variable. This is simple to\n",
    "set up. All you need to do is initialize the handedness term with the Random\n",
    "class instead, all other code remains identical."
   ]
  },
  {
   "cell_type": "code",
   "execution_count": null,
   "metadata": {},
   "outputs": [],
   "source": [
    "from brainstat.stats.terms import Random\n",
    "\n",
    "random_handedness = Random(tutorial_data[\"demographics\"][\"HAND\"], name_ran=\"Handedness\")\n",
    "random_identity = Random(1, name_ran=\"identity\")\n",
    "model_random = (\n",
    "    term_intercept\n",
    "    + term_age\n",
    "    + term_iq\n",
    "    + term_age * term_iq\n",
    "    + random_handedness\n",
    "    + random_identity\n",
    ")\n",
    "slm_random = linear_model(Y, model_random, pial_left)\n",
    "slm_random = t_test(slm_random, -age)\n",
    "P3, _, _, _ = random_field_theory(slm_random)\n",
    "print(P3)"
   ]
  }
 ],
 "metadata": {
  "jupytext": {
   "cell_metadata_filter": "-all",
   "main_language": "python",
   "notebook_metadata_filter": "-all"
  },
  "kernelspec": {
   "display_name": "Python 3",
   "language": "python",
   "name": "python3"
  },
  "language_info": {
   "codemirror_mode": {
    "name": "ipython",
    "version": 3
   },
   "file_extension": ".py",
   "mimetype": "text/x-python",
   "name": "python",
   "nbconvert_exporter": "python",
   "pygments_lexer": "ipython3",
   "version": "3.7.9"
  }
 },
 "nbformat": 4,
 "nbformat_minor": 4
}
