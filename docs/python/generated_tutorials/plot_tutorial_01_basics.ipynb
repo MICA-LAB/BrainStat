{
  "cells": [
    {
      "cell_type": "code",
      "execution_count": null,
      "metadata": {
        "collapsed": false
      },
      "outputs": [],
      "source": [
        "%matplotlib inline"
      ]
    },
    {
      "cell_type": "markdown",
      "metadata": {},
      "source": [
        "\n# Tutorial 01: Linear Models\n\nIn this tutorial you will set up your first linear model with SurfStat. Please\nnote that brainstat does not include sample data yet. Once we introduce\nexample data loader functions into BrainStat this tutorial will be modified \naccordingly. Until such time, we will rely on randomly generated data and sample\ndata from BrainSpace.\n\n## Setting up a linear model\nLets start setting up a basic model. Recall that fixed linear models take the\nform of $Y = \\beta_0 + \\beta_1x_1 + ... + \\beta_nx_n + \\varepsilon$ where\n$\\beta_0$ denotes the intercept, $\\beta_i$ denotes the slope for\nvariable $x_i$, and $\\varepsilon$ is the error term. In BrainStat we\ncan easily set up such a model as follows.\n\nFirst lets load some example data to play around with. We'll load age, IQ, and left\nhemispheric cortical thickness for a few subjects. \n"
      ]
    },
    {
      "cell_type": "code",
      "execution_count": null,
      "metadata": {
        "collapsed": false
      },
      "outputs": [],
      "source": [
        "import brainstat\nimport os\nfrom brainstat.tutorial.utils import fetch_tutorial_data \nfrom brainstat.context.utils import read_surface_gz\nimport numpy as np\nimport nibabel as nib\nfrom nilearn.datasets import fetch_surf_fsaverage\n\nbrainstat_dir = os.path.dirname(brainstat.__file__)\ndata_dir = os.path.join(brainstat_dir, 'tutorial')\n\nn = 10\ntutorial_data = fetch_tutorial_data(n_subjects=n, data_dir=data_dir)\nage = tutorial_data['demographics']['AGE'].to_numpy()\niq = tutorial_data['demographics']['IQ'].to_numpy()\n\n# Reshape the thickness files such that left and right hemispheres are in the same row. \nfiles = np.reshape(np.array(tutorial_data['image_files']),(-1,2))\n\n# We'll use only the left hemisphere in this tutorial.\nthickness = np.zeros((n,10242))\nfor i in range(n):\n    thickness[i,:] = np.squeeze(nib.load(files[i,0]).get_fdata())\n\npial_left = read_surface_gz(fetch_surf_fsaverage()['pial_left'])"
      ]
    },
    {
      "cell_type": "markdown",
      "metadata": {},
      "source": [
        "Next, we can create a BrainStat linear model by declaring these variables as\nterms. The term class requires two things: 1) an array or scalar, and 2) a\nvariable name for each column. Lastly, we can create the model by simply\nadding the terms together.\n\n"
      ]
    },
    {
      "cell_type": "code",
      "execution_count": null,
      "metadata": {
        "collapsed": false
      },
      "outputs": [],
      "source": [
        "from brainstat.stats.terms import Term\nterm_intercept = Term(1, names='intercept')\nterm_age = Term(age, 'age')\nterm_iq = Term(iq, 'iq')\nmodel = term_intercept + term_age + term_iq"
      ]
    },
    {
      "cell_type": "markdown",
      "metadata": {},
      "source": [
        "We can also add interaction effects to the model by multiplying terms.\n\n"
      ]
    },
    {
      "cell_type": "code",
      "execution_count": null,
      "metadata": {
        "collapsed": false
      },
      "outputs": [],
      "source": [
        "model_interaction = term_intercept + term_age + term_iq + term_age * term_iq"
      ]
    },
    {
      "cell_type": "markdown",
      "metadata": {},
      "source": [
        "Now, lets imagine we have some cortical marker (e.g. cortical thickness) for\neach subject and we want to evaluate whether this marker changes with age\nwhilst correcting for effects of sex and age-sex interactions. Note that\nBrainStat's univariate tests are one-tailed, so the sign of the contrast\nmatters!\n\n"
      ]
    },
    {
      "cell_type": "code",
      "execution_count": null,
      "metadata": {
        "collapsed": false
      },
      "outputs": [],
      "source": [
        "from brainstat.stats.models import linear_model, t_test\n\nY = np.random.rand(n, 32492) # Surface has 32492 vertices.\nslm = linear_model(Y, model_interaction, pial_left)\nslm = t_test(slm, -age)\nprint(slm['t']) # These are the t-values of the model."
      ]
    },
    {
      "cell_type": "markdown",
      "metadata": {},
      "source": [
        "Never forget: with great models come great multiple comparisons corrections.\nBrainStat provides two methods for these corrections: FDR and random field theory.\nIn this example we'll show you how to use random field theory to find significant \nresults at alpha=0.05.\n\n"
      ]
    },
    {
      "cell_type": "code",
      "execution_count": null,
      "metadata": {
        "collapsed": false
      },
      "outputs": [],
      "source": [
        "from brainstat.stats.multiple_comparisons import random_field_theory\n\nalpha = 0.05\nP, _, _, _ = random_field_theory(slm)\nprint(P['P'] < alpha)"
      ]
    },
    {
      "cell_type": "markdown",
      "metadata": {},
      "source": [
        "As said before, univariate tests in BrainStat use a one-tailed test. If you\nwant to get a two-tailed text, simply run contrast as well as its negative and\nadjust the alpha accordingly.\n\n"
      ]
    },
    {
      "cell_type": "code",
      "execution_count": null,
      "metadata": {
        "collapsed": false
      },
      "outputs": [],
      "source": [
        "slm_basic = linear_model(Y, model_interaction, pial_left)\n\nslm1 = t_test(slm_basic, -age)\nslm2 = t_test(slm_basic, age)\n\nP1, _, _, _ = random_field_theory(slm1)\nP2, _, _, _ = random_field_theory(slm2)\nprint(np.logical_or(P1['P'] < alpha/2, P2['P'] < alpha/2))"
      ]
    },
    {
      "cell_type": "markdown",
      "metadata": {},
      "source": [
        "Planned changes to this tutorial:\n- Visualize results on the surface instead of printing.\n\n"
      ]
    }
  ],
  "metadata": {
    "kernelspec": {
      "display_name": "Python 3",
      "language": "python",
      "name": "python3"
    },
    "language_info": {
      "codemirror_mode": {
        "name": "ipython",
        "version": 3
      },
      "file_extension": ".py",
      "mimetype": "text/x-python",
      "name": "python",
      "nbconvert_exporter": "python",
      "pygments_lexer": "ipython3",
      "version": "3.7.9"
    }
  },
  "nbformat": 4,
  "nbformat_minor": 0
}