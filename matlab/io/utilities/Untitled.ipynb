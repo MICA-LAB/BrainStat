{
 "cells": [
  {
   "cell_type": "code",
   "execution_count": 14,
   "metadata": {},
   "outputs": [],
   "source": [
    "import sys\n",
    "import numpy as np\n",
    "\n",
    "\n",
    "def py_SurfStatNorm_test(Y, mask, subdiv):\n",
    "\t# Normalizes by subtracting the global mean, or dividing it. \n",
    "    # Inputs     \t\n",
    "    # Y      = numpy array of shape (n x v) or (n x v x k). \n",
    "    #          v=#vertices.\n",
    "    # mask   = numpy boolean array of shape (1 x v). \n",
    "    #          True=inside the mask, False=outside. \n",
    "    # subdiv = 's' for Y=Y-Yav or 'd' for Y=Y/Yav.\n",
    "    # Outputs\n",
    "    # Y      = normalized data, numpy array of shape (n x v) or (n x v x k)\n",
    "    # Yav    = mean of input Y along the mask, numpy array of shape (n x 1) or (n x k)   \n",
    "\n",
    "    Y = np.array(Y, dtype='float64')\n",
    "\n",
    "    if np.ndim(Y) < 2:\n",
    "        sys.exit('input array should be np.ndims >= 2, tip: reshape it!')\n",
    "    elif np.ndim(Y) == 2:\n",
    "        n, v = np.shape(Y)\t\n",
    "        k = 1\n",
    "    elif np.ndim(Y) > 2:\n",
    "        n, v, k   = np.shape(Y)\t\n",
    "\n",
    "    if mask is None:\n",
    "        mask = np.array(np.ones(v), dtype=bool)    \n",
    "\n",
    "    if np.ndim(Y) == 2:\n",
    "        Yav = np.mean(Y[:,mask], axis=1)\n",
    "        Yav = Yav.reshape(len(Yav), 1)\n",
    "    elif np.ndim(Y) > 2:\n",
    "        Yav = np.mean(Y[:,mask,:], axis=1)\n",
    "\n",
    "    for i in range(0,n):\n",
    "       if  subdiv == 's':\n",
    "           if k == 1:\n",
    "               Y[i,:] = Y[i,:] - Yav[i]\n",
    "           elif k > 1:\n",
    "               for j in range(0, k):\t\t\t\n",
    "                   Y[i,:,j] = Y[i,:,j] - Yav[i,j]\t\t\t\n",
    "       elif subdiv == 'd':\n",
    "           if k == 1:\n",
    "               Y[i,:] = Y[i,:] / Yav[i]\n",
    "           elif k > 1:\n",
    "               for j in range(0, k):\n",
    "                   Y[i,:,j] = Y[i,:,j] / Yav[i,j];        \n",
    "\n",
    "    return Y, Yav"
   ]
  },
  {
   "cell_type": "code",
   "execution_count": 76,
   "metadata": {},
   "outputs": [],
   "source": [
    "def py_SurfStatNorm2(Y, mask=None, subdiv='s'):\n",
    "    \n",
    "    # Grab the dimensinos of Y.\n",
    "    if np.ndim(Y) < 2:\n",
    "        sys.exit('input array should be np.ndims >= 2, tip: reshape it!')\n",
    "    elif np.ndim(Y) == 2:\n",
    "        n, v = np.shape(Y)\t\n",
    "        k = 1\n",
    "    elif np.ndim(Y) > 2:\n",
    "        n, v, k   = np.shape(Y)\t\n",
    "    \n",
    "    # If no input mask, set it to true everywhere. \n",
    "    if mask is None:\n",
    "        mask = np.array(np.ones(v), dtype=bool) \n",
    "    \n",
    "    # Get the average within the mask.\n",
    "    if np.ndim(Y) == 2:\n",
    "        Yav = np.mean(Y[:,mask], axis=1)\n",
    "        Yav = Yav.reshape(len(Yav), 1)\n",
    "    elif np.ndim(Y) > 2:\n",
    "        Yav = np.mean(Y[:,mask,:], axis=1)\n",
    "        Yav = np.expand_dims(Yav, axis=1)\n",
    "    \n",
    "    # Subtract/Divide the average from the array. \n",
    "    if subdiv == 's':\n",
    "        Y = Y - Yav\n",
    "    elif subdiv == 'd':\n",
    "        Y = Y / Yav\n",
    "        \n",
    "    return Y, Yav"
   ]
  },
  {
   "cell_type": "code",
   "execution_count": 77,
   "metadata": {},
   "outputs": [],
   "source": [
    "Y = np.random.rand(3,3,3)\n",
    "mask=None\n",
    "subdiv = 's'\n",
    "Y1,Yav1 = py_SurfStatNorm_test(Y,mask,subdiv)\n",
    "Y2,Yav2 = py_SurfStatNorm2(Y)"
   ]
  },
  {
   "cell_type": "code",
   "execution_count": 81,
   "metadata": {},
   "outputs": [
    {
     "data": {
      "text/plain": [
       "True"
      ]
     },
     "execution_count": 81,
     "metadata": {},
     "output_type": "execute_result"
    }
   ],
   "source": [
    "np.array_equal(Y1,Y2)"
   ]
  },
  {
   "cell_type": "code",
   "execution_count": 79,
   "metadata": {},
   "outputs": [
    {
     "data": {
      "text/plain": [
       "array([[[ 0.14401534,  0.16244944, -0.09786445],\n",
       "        [ 0.00631243, -0.05572492,  0.34064876],\n",
       "        [-0.15032777, -0.10672452, -0.24278431]],\n",
       "\n",
       "       [[ 0.08236308, -0.08728836,  0.15824362],\n",
       "        [ 0.07155845, -0.24163975, -0.02408271],\n",
       "        [-0.15392153,  0.32892811, -0.13416091]],\n",
       "\n",
       "       [[-0.12075612, -0.04031737,  0.26483217],\n",
       "        [-0.2703216 ,  0.02955445,  0.26307027],\n",
       "        [ 0.39107772,  0.01076291, -0.52790244]]])"
      ]
     },
     "execution_count": 79,
     "metadata": {},
     "output_type": "execute_result"
    }
   ],
   "source": [
    "Y2"
   ]
  },
  {
   "cell_type": "code",
   "execution_count": 63,
   "metadata": {},
   "outputs": [],
   "source": [
    "# Grab the dimensinos of Y.\n",
    "if np.ndim(Y) < 2:\n",
    "    sys.exit('input array should be np.ndims >= 2, tip: reshape it!')\n",
    "elif np.ndim(Y) == 2:\n",
    "    n, v = np.shape(Y)\t\n",
    "    k = 1\n",
    "elif np.ndim(Y) > 2:\n",
    "    n, v, k   = np.shape(Y)\t\n",
    "\n",
    "# If no input mask, set it to true everywhere. \n",
    "if mask is None:\n",
    "    mask = np.array(np.ones(v), dtype=bool) \n",
    "\n",
    "# Get the average within the mask.\n",
    "if np.ndim(Y) == 2:\n",
    "    Yav = np.mean(Y[:,mask], axis=1)\n",
    "    Yav = Yav.reshape(len(Yav), 1)\n",
    "elif np.ndim(Y) > 2:\n",
    "    Yav = np.mean(Y[:,mask,:], axis=1)\n",
    "\n",
    "# Subtract/Divide the average from the array. \n",
    "if subdiv == 's':\n",
    "    Y3 = Y - Yav\n",
    "elif subdiv == 'd':\n",
    "    Y3 = Y / Yav"
   ]
  },
  {
   "cell_type": "code",
   "execution_count": 64,
   "metadata": {},
   "outputs": [
    {
     "data": {
      "text/plain": [
       "array([[-0.40030318,  0.46503814, -0.06473497],\n",
       "       [-0.05704199,  0.14277489, -0.0857329 ],\n",
       "       [-0.09620908,  0.10907082, -0.01286175]])"
      ]
     },
     "execution_count": 64,
     "metadata": {},
     "output_type": "execute_result"
    }
   ],
   "source": [
    "Y"
   ]
  },
  {
   "cell_type": "code",
   "execution_count": null,
   "metadata": {},
   "outputs": [],
   "source": []
  }
 ],
 "metadata": {
  "kernelspec": {
   "display_name": "Python 3",
   "language": "python",
   "name": "python3"
  },
  "language_info": {
   "codemirror_mode": {
    "name": "ipython",
    "version": 3
   },
   "file_extension": ".py",
   "mimetype": "text/x-python",
   "name": "python",
   "nbconvert_exporter": "python",
   "pygments_lexer": "ipython3",
   "version": "3.7.7"
  }
 },
 "nbformat": 4,
 "nbformat_minor": 4
}
