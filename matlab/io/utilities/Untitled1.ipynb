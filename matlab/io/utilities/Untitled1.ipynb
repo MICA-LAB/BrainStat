{
 "cells": [
  {
   "cell_type": "code",
   "execution_count": 8,
   "metadata": {},
   "outputs": [],
   "source": [
    "\n",
    "def py_SurfStatNorm_old(Y, mask=None, subdiv='s'):\n",
    "\n",
    "\t# Normalizes by subtracting the global mean, or dividing it. \n",
    "    # Inputs     \t\n",
    "    # Y      = numpy array of shape (n x v) or (n x v x k). \n",
    "    #          v=#vertices.\n",
    "    # mask   = numpy boolean array of shape (1 x v). \n",
    "    #          True=inside the mask, False=outside. \n",
    "    # subdiv = 's' for Y=Y-Yav or 'd' for Y=Y/Yav.\n",
    "    # Outputs\n",
    "    # Y      = normalized data, numpy array of shape (n x v) or (n x v x k)\n",
    "    # Yav    = mean of input Y along the mask, numpy array of shape (n x 1) or (n x k)   \n",
    "\n",
    "    Y = np.array(Y, dtype='float64')\n",
    "\n",
    "    if np.ndim(Y) < 2:\n",
    "        sys.exit('input array should be np.ndims >= 2, tip: reshape it!')\n",
    "    elif np.ndim(Y) == 2:\n",
    "        n, v = np.shape(Y)\t\n",
    "        k = 1\n",
    "    elif np.ndim(Y) > 2:\n",
    "        n, v, k   = np.shape(Y)\t\n",
    "\n",
    "    if mask is None:\n",
    "        mask = np.array(np.ones(v), dtype=bool)    \n",
    "\n",
    "    if np.ndim(Y) == 2:\n",
    "        Yav = np.mean(Y[:,mask], axis=1)\n",
    "        Yav = Yav.reshape(len(Yav), 1)\n",
    "    elif np.ndim(Y) > 2:\n",
    "        Yav = np.mean(Y[:,mask,:], axis=1)\n",
    "    \n",
    "    for i in range(0,n):\n",
    "       if  subdiv == 's':\n",
    "           if k == 1:\n",
    "               Y[i,:] = Y[i,:] - Yav[i]\n",
    "           elif k > 1:\n",
    "               for j in range(0, k):\t\t\t\n",
    "                   Y[i,:,j] = Y[i,:,j] - Yav[i,j]\t\t\t\n",
    "       elif subdiv == 'd':\n",
    "           if k == 1:\n",
    "               Y[i,:] = Y[i,:] / Yav[i]\n",
    "           elif k > 1:\n",
    "               for j in range(0, k):\n",
    "                   Y[i,:,j] = Y[i,:,j] / Yav[i,j];        \n",
    "\n",
    "    return Y, Yav"
   ]
  },
  {
   "cell_type": "code",
   "execution_count": 33,
   "metadata": {},
   "outputs": [],
   "source": [
    "import numpy as np\n",
    "import sys\n",
    "\n",
    "def py_SurfStatNorm(Y, mask=None, subdiv='s'):\n",
    "\n",
    "\t# Normalizes by subtracting the global mean, or dividing it. \n",
    "    # Inputs     \t\n",
    "    # Y      = numpy array of shape (n x v) or (n x v x k). \n",
    "    #          v=#vertices.\n",
    "    # mask   = numpy boolean array of shape (1 x v). \n",
    "    #          True=inside the mask, False=outside. \n",
    "    # subdiv = 's' for Y=Y-Yav or 'd' for Y=Y/Yav.\n",
    "    # Outputs\n",
    "    # Y      = normalized data, numpy array of shape (n x v) or (n x v x k)\n",
    "    # Yav    = mean of input Y along the mask, numpy array of shape (n x 1) or (n x k)   \n",
    "\n",
    "    Y = np.array(Y, dtype='float64')\n",
    "\n",
    "    if np.ndim(Y) < 2:\n",
    "        sys.exit('input array should be np.ndims >= 2, tip: reshape it!')\n",
    "    elif np.ndim(Y) == 2:\n",
    "        n, v = np.shape(Y)\t\n",
    "        k = 1\n",
    "    elif np.ndim(Y) > 2:\n",
    "        n, v, k   = np.shape(Y)\t\n",
    "\n",
    "    if mask is None:\n",
    "        mask = np.array(np.ones(v), dtype=bool)    \n",
    "\n",
    "    if np.ndim(Y) == 2:\n",
    "        Yav = np.mean(Y[:,mask], axis=1)\n",
    "        Yav = Yav.reshape(len(Yav), 1)\n",
    "    elif np.ndim(Y) > 2:\n",
    "        Yav = np.mean(Y[:,mask,:], axis=1)\n",
    "        Yav = np.expand_dims(Yav, axis = 1)\n",
    "\n",
    "    if subdiv == 's':\n",
    "        Y = Y - Yav\n",
    "    elif subdiv == 'd':\n",
    "        Y = Y / Yav\n",
    "    \n",
    "    return Y, Yav"
   ]
  },
  {
   "cell_type": "code",
   "execution_count": 34,
   "metadata": {},
   "outputs": [],
   "source": [
    "a = np.array([[1,2,3,4],[5,6,7,8],[9,10,11,12]])\n",
    "Y = np.zeros((3,4,2))\n",
    "Y[:,:,0] = a\n",
    "Y[:,:,1] = a\n",
    "mask = np.array([1, 1, 0, 0], dtype=bool)\n",
    "subdiv = 's'\n",
    "\n",
    "Yo,Yavo = py_SurfStatNorm_old(Y,mask,subdiv)\n",
    "Yn,Yavn = py_SurfStatNorm(Y,mask,subdiv)"
   ]
  },
  {
   "cell_type": "code",
   "execution_count": 38,
   "metadata": {},
   "outputs": [
    {
     "data": {
      "text/plain": [
       "array([[1.5, 1.5],\n",
       "       [5.5, 5.5],\n",
       "       [9.5, 9.5]])"
      ]
     },
     "execution_count": 38,
     "metadata": {},
     "output_type": "execute_result"
    }
   ],
   "source": [
    "Yavo"
   ]
  },
  {
   "cell_type": "code",
   "execution_count": 39,
   "metadata": {},
   "outputs": [
    {
     "data": {
      "text/plain": [
       "array([[[1.5, 1.5]],\n",
       "\n",
       "       [[5.5, 5.5]],\n",
       "\n",
       "       [[9.5, 9.5]]])"
      ]
     },
     "execution_count": 39,
     "metadata": {},
     "output_type": "execute_result"
    }
   ],
   "source": [
    "Yavn"
   ]
  },
  {
   "cell_type": "code",
   "execution_count": 21,
   "metadata": {},
   "outputs": [],
   "source": [
    "Yav = np.mean(Y[:,mask,:], axis=1)"
   ]
  },
  {
   "cell_type": "code",
   "execution_count": 22,
   "metadata": {},
   "outputs": [
    {
     "data": {
      "text/plain": [
       "(3, 2)"
      ]
     },
     "execution_count": 22,
     "metadata": {},
     "output_type": "execute_result"
    }
   ],
   "source": [
    "Yav.shape"
   ]
  },
  {
   "cell_type": "code",
   "execution_count": 24,
   "metadata": {},
   "outputs": [
    {
     "data": {
      "text/plain": [
       "array([[1.5, 1.5],\n",
       "       [5.5, 5.5],\n",
       "       [9.5, 9.5]])"
      ]
     },
     "execution_count": 24,
     "metadata": {},
     "output_type": "execute_result"
    }
   ],
   "source": [
    "Yav"
   ]
  },
  {
   "cell_type": "code",
   "execution_count": null,
   "metadata": {},
   "outputs": [],
   "source": []
  }
 ],
 "metadata": {
  "kernelspec": {
   "display_name": "Python 3",
   "language": "python",
   "name": "python3"
  },
  "language_info": {
   "codemirror_mode": {
    "name": "ipython",
    "version": 3
   },
   "file_extension": ".py",
   "mimetype": "text/x-python",
   "name": "python",
   "nbconvert_exporter": "python",
   "pygments_lexer": "ipython3",
   "version": "3.7.7"
  }
 },
 "nbformat": 4,
 "nbformat_minor": 4
}
